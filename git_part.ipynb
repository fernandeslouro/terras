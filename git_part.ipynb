{
 "cells": [
  {
   "cell_type": "code",
   "execution_count": 1,
   "id": "63a572d4",
   "metadata": {},
   "outputs": [],
   "source": [
    "imname = \"S2A_MSIL2A_20210603T112111_N0300_R037_T29SND_20210603T144254.png\""
   ]
  },
  {
   "cell_type": "code",
   "execution_count": 5,
   "id": "b721fba3",
   "metadata": {},
   "outputs": [],
   "source": [
    "alldate = imname.split('_')[2]"
   ]
  },
  {
   "cell_type": "code",
   "execution_count": 6,
   "id": "31ca6b4a",
   "metadata": {},
   "outputs": [
    {
     "data": {
      "text/plain": [
       "'20210603T112111'"
      ]
     },
     "execution_count": 6,
     "metadata": {},
     "output_type": "execute_result"
    }
   ],
   "source": [
    "alldate"
   ]
  },
  {
   "cell_type": "code",
   "execution_count": 12,
   "id": "3f1bc724",
   "metadata": {},
   "outputs": [
    {
     "name": "stdout",
     "output_type": "stream",
     "text": [
      "2021 06 03 11 21\n"
     ]
    }
   ],
   "source": [
    "print(alldate[:4], alldate[4:6], alldate[6:8], alldate[9:11], alldate[11:13])"
   ]
  },
  {
   "cell_type": "code",
   "execution_count": 14,
   "id": "5ef3f0f8",
   "metadata": {},
   "outputs": [
    {
     "data": {
      "text/plain": [
       "'2021-06-03_11:21'"
      ]
     },
     "execution_count": 14,
     "metadata": {},
     "output_type": "execute_result"
    }
   ],
   "source": [
    "newtitle = f'{alldate[:4]}-{alldate[4:6]}-{alldate[6:8]}_{alldate[9:11]}:{alldate[11:13]}'\n",
    "newtitle"
   ]
  },
  {
   "cell_type": "code",
   "execution_count": 1,
   "id": "82b84c35",
   "metadata": {},
   "outputs": [
    {
     "name": "stdout",
     "output_type": "stream",
     "text": [
      "Collecting gitpython\n",
      "  Downloading GitPython-3.1.17-py3-none-any.whl (166 kB)\n",
      "\u001b[K     |████████████████████████████████| 166 kB 1.0 MB/s eta 0:00:01\n",
      "\u001b[?25hCollecting gitdb<5,>=4.0.1\n",
      "  Downloading gitdb-4.0.7-py3-none-any.whl (63 kB)\n",
      "\u001b[K     |████████████████████████████████| 63 kB 475 kB/s eta 0:00:01\n",
      "\u001b[?25hCollecting smmap<5,>=3.0.1\n",
      "  Downloading smmap-4.0.0-py2.py3-none-any.whl (24 kB)\n",
      "Installing collected packages: smmap, gitdb, gitpython\n",
      "Successfully installed gitdb-4.0.7 gitpython-3.1.17 smmap-4.0.0\n"
     ]
    }
   ],
   "source": [
    "!pip install gitpython"
   ]
  },
  {
   "cell_type": "code",
   "execution_count": 2,
   "id": "c1a2e688",
   "metadata": {},
   "outputs": [],
   "source": [
    "from git import Repo"
   ]
  },
  {
   "cell_type": "code",
   "execution_count": 3,
   "id": "c146f639",
   "metadata": {},
   "outputs": [
    {
     "ename": "NameError",
     "evalue": "name 'src' is not defined",
     "output_type": "error",
     "traceback": [
      "\u001b[0;31m---------------------------------------------------------------------------\u001b[0m",
      "\u001b[0;31mNameError\u001b[0m                                 Traceback (most recent call last)",
      "\u001b[0;32m<ipython-input-3-b503b9881f66>\u001b[0m in \u001b[0;36m<module>\u001b[0;34m\u001b[0m\n\u001b[1;32m      1\u001b[0m \u001b[0;32mfrom\u001b[0m \u001b[0mshutil\u001b[0m \u001b[0;32mimport\u001b[0m \u001b[0mcopyfile\u001b[0m\u001b[0;34m\u001b[0m\u001b[0;34m\u001b[0m\u001b[0m\n\u001b[0;32m----> 2\u001b[0;31m \u001b[0mcopyfile\u001b[0m\u001b[0;34m(\u001b[0m\u001b[0msrc\u001b[0m\u001b[0;34m,\u001b[0m \u001b[0mdst\u001b[0m\u001b[0;34m)\u001b[0m\u001b[0;34m\u001b[0m\u001b[0;34m\u001b[0m\u001b[0m\n\u001b[0m",
      "\u001b[0;31mNameError\u001b[0m: name 'src' is not defined"
     ]
    }
   ],
   "source": [
    "from shutil import copyfile\n"
   ]
  },
  {
   "cell_type": "code",
   "execution_count": null,
   "id": "2d6f0527",
   "metadata": {},
   "outputs": [],
   "source": [
    "def image_to_repo(repo_dir, image_path, commit_message)\n",
    "    copyfile(image_path, repo_dir+image_path)\n",
    "    repo = Repo(repo_dir)  # if repo is CWD just do '.'\n",
    "    repo.index.add([image_path])\n",
    "    repo.index.commit(commit_message)\n",
    "    origin = repo.remote('origin')\n",
    "    origin.push()\n",
    "    \n",
    "image_to_repo('/home/primity/blog', '/home/primity/terras/bulk', \"Add new image\")"
   ]
  }
 ],
 "metadata": {
  "kernelspec": {
   "display_name": "Python 3",
   "language": "python",
   "name": "python3"
  },
  "language_info": {
   "codemirror_mode": {
    "name": "ipython",
    "version": 3
   },
   "file_extension": ".py",
   "mimetype": "text/x-python",
   "name": "python",
   "nbconvert_exporter": "python",
   "pygments_lexer": "ipython3",
   "version": "3.9.2"
  }
 },
 "nbformat": 4,
 "nbformat_minor": 5
}
