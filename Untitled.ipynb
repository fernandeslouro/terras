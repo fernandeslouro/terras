{
 "cells": [
  {
   "cell_type": "code",
   "execution_count": 1,
   "id": "878b354c",
   "metadata": {},
   "outputs": [],
   "source": [
    "imname = \"S2A_MSIL2A_20210603T112111_N0300_R037_T29SND_20210603T144254.png\""
   ]
  },
  {
   "cell_type": "code",
   "execution_count": 5,
   "id": "81dabd5a",
   "metadata": {},
   "outputs": [],
   "source": [
    "alldate = imname.split('_')[2]"
   ]
  },
  {
   "cell_type": "code",
   "execution_count": 6,
   "id": "ff07b315",
   "metadata": {},
   "outputs": [
    {
     "data": {
      "text/plain": [
       "'20210603T112111'"
      ]
     },
     "execution_count": 6,
     "metadata": {},
     "output_type": "execute_result"
    }
   ],
   "source": [
    "alldate"
   ]
  },
  {
   "cell_type": "code",
   "execution_count": 12,
   "id": "490763db",
   "metadata": {},
   "outputs": [
    {
     "name": "stdout",
     "output_type": "stream",
     "text": [
      "2021 06 03 11 21\n"
     ]
    }
   ],
   "source": [
    "print(alldate[:4], alldate[4:6], alldate[6:8], alldate[9:11], alldate[11:13])"
   ]
  },
  {
   "cell_type": "code",
   "execution_count": 14,
   "id": "0862dc7e",
   "metadata": {},
   "outputs": [
    {
     "data": {
      "text/plain": [
       "'2021-06-03_11:21'"
      ]
     },
     "execution_count": 14,
     "metadata": {},
     "output_type": "execute_result"
    }
   ],
   "source": [
    "newtitle = f'{alldate[:4]}-{alldate[4:6]}-{alldate[6:8]}_{alldate[9:11]}:{alldate[11:13]}'\n",
    "newtitle"
   ]
  },
  {
   "cell_type": "code",
   "execution_count": null,
   "id": "6009fc09",
   "metadata": {},
   "outputs": [],
   "source": []
  }
 ],
 "metadata": {
  "kernelspec": {
   "display_name": "Python 3",
   "language": "python",
   "name": "python3"
  },
  "language_info": {
   "codemirror_mode": {
    "name": "ipython",
    "version": 3
   },
   "file_extension": ".py",
   "mimetype": "text/x-python",
   "name": "python",
   "nbconvert_exporter": "python",
   "pygments_lexer": "ipython3",
   "version": "3.9.2"
  }
 },
 "nbformat": 4,
 "nbformat_minor": 5
}
