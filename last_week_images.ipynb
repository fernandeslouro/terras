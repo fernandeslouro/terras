{
 "cells": [
  {
   "cell_type": "code",
   "execution_count": 1,
   "id": "bff4419f",
   "metadata": {},
   "outputs": [],
   "source": [
    "%load_ext autoreload\n",
    "%autoreload 2"
   ]
  },
  {
   "cell_type": "code",
   "execution_count": 2,
   "id": "8b8336c4",
   "metadata": {
    "tags": []
   },
   "outputs": [],
   "source": [
    "import fiona\n",
    "import collections\n",
    "import matplotlib.pyplot as plt\n",
    "import pyproj\n",
    "import rasterio\n",
    "import rasterio.mask\n",
    "from rasterio.plot import show\n",
    "from rasterio import features\n",
    "from sentinelsat import SentinelAPI, read_geojson, geojson_to_wkt\n",
    "from datetime import date, timedelta\n",
    "import geopandas\n",
    "import os\n",
    "from shapely import geometry\n",
    "import numpy as np\n",
    "import utilities\n",
    "import pandas as pd\n",
    "import shutil\n",
    "import glob\n",
    "pd.set_option('display.max_columns', None)\n",
    "import time\n",
    "import zipfile\n",
    "import geopandas as gpd\n",
    "import shapely\n",
    "import geopandas as gpd\n",
    "from shapely.geometry import MultiPoint, Polygon\n",
    "from PIL import Image"
   ]
  },
  {
   "cell_type": "code",
   "execution_count": 3,
   "id": "c2bf1179",
   "metadata": {},
   "outputs": [],
   "source": [
    "path = \"bulk/\"\n",
    "dest = \"bulk_crops/\"\n",
    "counties = True\n",
    "parishes = False\n",
    "cutoff_name = 'Mação'"
   ]
  },
  {
   "cell_type": "code",
   "execution_count": 4,
   "id": "9c8530d8",
   "metadata": {},
   "outputs": [],
   "source": [
    "if parishes:\n",
    "    level = 3\n",
    "if counties:\n",
    "    level=2\n",
    "    \n",
    "all_shapes = gpd.read_file(f\"gadm36_PRT_shp/gadm36_PRT_{level}.shp\")\n",
    "cutoff_shp = all_shapes[all_shapes[f'NAME_{level}']==cutoff_name].iloc[0].geometry\n",
    "all_shapes_ptcrs = all_shapes.to_crs(epsg=32629)\n",
    "cutoff_shp_ptcrs = all_shapes_ptcrs[all_shapes_ptcrs[f'NAME_{level}']==cutoff_name].iloc[0].geometry"
   ]
  },
  {
   "cell_type": "code",
   "execution_count": 5,
   "id": "eb6c1fb8",
   "metadata": {},
   "outputs": [],
   "source": [
    "outer_square = utilities.polygon_outer_square(cutoff_shp)"
   ]
  },
  {
   "cell_type": "code",
   "execution_count": 6,
   "id": "68a64139",
   "metadata": {},
   "outputs": [
    {
     "name": "stdout",
     "output_type": "stream",
     "text": [
      "5 available products\n",
      "Trying to download 0cffc8ec-55f2-4a82-99ae-02e72a046608\n"
     ]
    },
    {
     "name": "stderr",
     "output_type": "stream",
     "text": [
      "Downloading: 100%|██████████| 1.19G/1.19G [10:30<00:00, 1.88MB/s]\n",
      "MD5 checksumming: 100%|██████████| 1.19G/1.19G [00:01<00:00, 822MB/s]\n"
     ]
    }
   ],
   "source": [
    "os.makedirs(path, exist_ok=True)\n",
    "os.makedirs(dest, exist_ok=True)\n",
    "\n",
    "#get products list from this day\n",
    "api = SentinelAPI('fernandeslouro', 'copernicospw', 'https://scihub.copernicus.eu/dhus')\n",
    "products = api.query(outer_square,\n",
    "                     date=(date.today() - timedelta(7), date.today()),\n",
    "                     platformname='Sentinel-2',\n",
    "                     cloudcoverpercentage=(0, 30))\n",
    "products_df = api.to_dataframe(products)\n",
    "\n",
    "if products_df.empty:\n",
    "    print('No images found')\n",
    "else:    \n",
    "    downloaded_product = utilities.download_most_recent_product(products_df, polygon_to_overlap=cutoff_shp, path=path)"
   ]
  },
  {
   "cell_type": "code",
   "execution_count": 7,
   "id": "42ec02d8",
   "metadata": {},
   "outputs": [],
   "source": [
    "# copy jp2 to dest\n",
    "utilities.subfolders_copy(os.path.join(path, downloaded_product['title'] + '.SAFE'), dest)"
   ]
  },
  {
   "cell_type": "code",
   "execution_count": 8,
   "id": "afaa0041",
   "metadata": {},
   "outputs": [
    {
     "ename": "RasterioIOError",
     "evalue": "bulk_crops/bulk_crops/T29SND_20210603T112111_TCI_10m.jp2: No such file or directory",
     "output_type": "error",
     "traceback": [
      "\u001b[0;31m---------------------------------------------------------------------------\u001b[0m",
      "\u001b[0;31mCPLE_OpenFailedError\u001b[0m                      Traceback (most recent call last)",
      "\u001b[0;32mrasterio/_base.pyx\u001b[0m in \u001b[0;36mrasterio._base.DatasetBase.__init__\u001b[0;34m()\u001b[0m\n",
      "\u001b[0;32mrasterio/_shim.pyx\u001b[0m in \u001b[0;36mrasterio._shim.open_dataset\u001b[0;34m()\u001b[0m\n",
      "\u001b[0;32mrasterio/_err.pyx\u001b[0m in \u001b[0;36mrasterio._err.exc_wrap_pointer\u001b[0;34m()\u001b[0m\n",
      "\u001b[0;31mCPLE_OpenFailedError\u001b[0m: bulk_crops/bulk_crops/T29SND_20210603T112111_TCI_10m.jp2: No such file or directory",
      "\nDuring handling of the above exception, another exception occurred:\n",
      "\u001b[0;31mRasterioIOError\u001b[0m                           Traceback (most recent call last)",
      "\u001b[0;32m<ipython-input-8-adf7241db231>\u001b[0m in \u001b[0;36m<module>\u001b[0;34m\u001b[0m\n\u001b[1;32m      5\u001b[0m             \u001b[0mimgname\u001b[0m \u001b[0;34m=\u001b[0m \u001b[0;34mf'{namepart[:4]}-{namepart[4:6]}-{namepart[6:8]}_{namepart[9:11]}:{namepart[11:13]}'\u001b[0m\u001b[0;34m\u001b[0m\u001b[0;34m\u001b[0m\u001b[0m\n\u001b[1;32m      6\u001b[0m             \u001b[0;32mbreak\u001b[0m\u001b[0;34m\u001b[0m\u001b[0;34m\u001b[0m\u001b[0m\n\u001b[0;32m----> 7\u001b[0;31m     \u001b[0;32mwith\u001b[0m \u001b[0mrasterio\u001b[0m\u001b[0;34m.\u001b[0m\u001b[0mopen\u001b[0m\u001b[0;34m(\u001b[0m\u001b[0mos\u001b[0m\u001b[0;34m.\u001b[0m\u001b[0mpath\u001b[0m\u001b[0;34m.\u001b[0m\u001b[0mjoin\u001b[0m\u001b[0;34m(\u001b[0m\u001b[0mdest\u001b[0m\u001b[0;34m,\u001b[0m \u001b[0mi\u001b[0m\u001b[0;34m)\u001b[0m\u001b[0;34m)\u001b[0m \u001b[0;32mas\u001b[0m \u001b[0msrc\u001b[0m\u001b[0;34m:\u001b[0m\u001b[0;34m\u001b[0m\u001b[0;34m\u001b[0m\u001b[0m\n\u001b[0m\u001b[1;32m      8\u001b[0m         \u001b[0mout_image\u001b[0m\u001b[0;34m,\u001b[0m \u001b[0mout_transform\u001b[0m \u001b[0;34m=\u001b[0m \u001b[0mrasterio\u001b[0m\u001b[0;34m.\u001b[0m\u001b[0mmask\u001b[0m\u001b[0;34m.\u001b[0m\u001b[0mmask\u001b[0m\u001b[0;34m(\u001b[0m\u001b[0msrc\u001b[0m\u001b[0;34m,\u001b[0m \u001b[0;34m[\u001b[0m\u001b[0mcutoff_shp_ptcrs\u001b[0m\u001b[0;34m]\u001b[0m\u001b[0;34m,\u001b[0m \u001b[0mcrop\u001b[0m\u001b[0;34m=\u001b[0m\u001b[0;32mTrue\u001b[0m\u001b[0;34m,\u001b[0m \u001b[0mnodata\u001b[0m\u001b[0;34m=\u001b[0m\u001b[0;36m0\u001b[0m\u001b[0;34m,\u001b[0m \u001b[0mall_touched\u001b[0m\u001b[0;34m=\u001b[0m\u001b[0;32mTrue\u001b[0m\u001b[0;34m)\u001b[0m\u001b[0;34m\u001b[0m\u001b[0;34m\u001b[0m\u001b[0m\n\u001b[1;32m      9\u001b[0m         \u001b[0mout_meta\u001b[0m \u001b[0;34m=\u001b[0m \u001b[0msrc\u001b[0m\u001b[0;34m.\u001b[0m\u001b[0mmeta\u001b[0m\u001b[0;34m.\u001b[0m\u001b[0mcopy\u001b[0m\u001b[0;34m(\u001b[0m\u001b[0;34m)\u001b[0m\u001b[0;34m\u001b[0m\u001b[0;34m\u001b[0m\u001b[0m\n",
      "\u001b[0;32m~/.miniconda3/envs/eruditio/lib/python3.9/site-packages/rasterio/env.py\u001b[0m in \u001b[0;36mwrapper\u001b[0;34m(*args, **kwds)\u001b[0m\n\u001b[1;32m    433\u001b[0m \u001b[0;34m\u001b[0m\u001b[0m\n\u001b[1;32m    434\u001b[0m         \u001b[0;32mwith\u001b[0m \u001b[0menv_ctor\u001b[0m\u001b[0;34m(\u001b[0m\u001b[0msession\u001b[0m\u001b[0;34m=\u001b[0m\u001b[0msession\u001b[0m\u001b[0;34m)\u001b[0m\u001b[0;34m:\u001b[0m\u001b[0;34m\u001b[0m\u001b[0;34m\u001b[0m\u001b[0m\n\u001b[0;32m--> 435\u001b[0;31m             \u001b[0;32mreturn\u001b[0m \u001b[0mf\u001b[0m\u001b[0;34m(\u001b[0m\u001b[0;34m*\u001b[0m\u001b[0margs\u001b[0m\u001b[0;34m,\u001b[0m \u001b[0;34m**\u001b[0m\u001b[0mkwds\u001b[0m\u001b[0;34m)\u001b[0m\u001b[0;34m\u001b[0m\u001b[0;34m\u001b[0m\u001b[0m\n\u001b[0m\u001b[1;32m    436\u001b[0m \u001b[0;34m\u001b[0m\u001b[0m\n\u001b[1;32m    437\u001b[0m     \u001b[0;32mreturn\u001b[0m \u001b[0mwrapper\u001b[0m\u001b[0;34m\u001b[0m\u001b[0;34m\u001b[0m\u001b[0m\n",
      "\u001b[0;32m~/.miniconda3/envs/eruditio/lib/python3.9/site-packages/rasterio/__init__.py\u001b[0m in \u001b[0;36mopen\u001b[0;34m(fp, mode, driver, width, height, count, crs, transform, dtype, nodata, sharing, **kwargs)\u001b[0m\n\u001b[1;32m    205\u001b[0m         \u001b[0;31m# None.\u001b[0m\u001b[0;34m\u001b[0m\u001b[0;34m\u001b[0m\u001b[0;34m\u001b[0m\u001b[0m\n\u001b[1;32m    206\u001b[0m         \u001b[0;32mif\u001b[0m \u001b[0mmode\u001b[0m \u001b[0;34m==\u001b[0m \u001b[0;34m'r'\u001b[0m\u001b[0;34m:\u001b[0m\u001b[0;34m\u001b[0m\u001b[0;34m\u001b[0m\u001b[0m\n\u001b[0;32m--> 207\u001b[0;31m             \u001b[0ms\u001b[0m \u001b[0;34m=\u001b[0m \u001b[0mDatasetReader\u001b[0m\u001b[0;34m(\u001b[0m\u001b[0mpath\u001b[0m\u001b[0;34m,\u001b[0m \u001b[0mdriver\u001b[0m\u001b[0;34m=\u001b[0m\u001b[0mdriver\u001b[0m\u001b[0;34m,\u001b[0m \u001b[0msharing\u001b[0m\u001b[0;34m=\u001b[0m\u001b[0msharing\u001b[0m\u001b[0;34m,\u001b[0m \u001b[0;34m**\u001b[0m\u001b[0mkwargs\u001b[0m\u001b[0;34m)\u001b[0m\u001b[0;34m\u001b[0m\u001b[0;34m\u001b[0m\u001b[0m\n\u001b[0m\u001b[1;32m    208\u001b[0m         \u001b[0;32melif\u001b[0m \u001b[0mmode\u001b[0m \u001b[0;34m==\u001b[0m \u001b[0;34m\"r+\"\u001b[0m\u001b[0;34m:\u001b[0m\u001b[0;34m\u001b[0m\u001b[0;34m\u001b[0m\u001b[0m\n\u001b[1;32m    209\u001b[0m             s = get_writer_for_path(path, driver=driver)(\n",
      "\u001b[0;32mrasterio/_base.pyx\u001b[0m in \u001b[0;36mrasterio._base.DatasetBase.__init__\u001b[0;34m()\u001b[0m\n",
      "\u001b[0;31mRasterioIOError\u001b[0m: bulk_crops/bulk_crops/T29SND_20210603T112111_TCI_10m.jp2: No such file or directory"
     ]
    }
   ],
   "source": [
    "# save cropped jp2 with same name \n",
    "for i in [img for img in utilities.listdir_nohidden(dest) if img.endswith('.jp2')]:\n",
    "    for namepart in i.split('/')[-1].split('_'):\n",
    "        if namepart.startswith('202'):\n",
    "            imgname = f'{namepart[:4]}-{namepart[4:6]}-{namepart[6:8]}_{namepart[9:11]}:{namepart[11:13]}'\n",
    "            break\n",
    "    with rasterio.open(os.path.join(dest, i)) as src:\n",
    "        out_image, out_transform = rasterio.mask.mask(src, [cutoff_shp_ptcrs], crop=True, nodata=0, all_touched=True)\n",
    "        out_meta = src.meta.copy() \n",
    "    \n",
    "    out_image = utilities.append_transparency_band(out_image)\n",
    "            \n",
    "    with rasterio.open(os.path.join(dest, imgname)+'.png','w',\n",
    "                       driver='PNG',\n",
    "                       height=out_image.shape[1],\n",
    "                       width=out_image.shape[2],\n",
    "                       dtype=rasterio.uint8,\n",
    "                       count=out_image.shape[0],\n",
    "                       compress='lzw') as dst:\n",
    "        dst.write(np.array(out_image, dtype='uint8'))\n",
    "    \n",
    "for f in utilities.listdir_nohidden(dest):\n",
    "    if '.jp2' in f and not f.startswith('.'):\n",
    "        os.remove(os.path.join(dest, f))"
   ]
  },
  {
   "cell_type": "code",
   "execution_count": null,
   "id": "e7ceac39",
   "metadata": {},
   "outputs": [],
   "source": [
    "shutil.rmtree(os.path.join(path, f'{downloaded_product[\"title\"]}.SAFE'))"
   ]
  }
 ],
 "metadata": {
  "kernelspec": {
   "display_name": "Python 3",
   "language": "python",
   "name": "python3"
  },
  "language_info": {
   "codemirror_mode": {
    "name": "ipython",
    "version": 3
   },
   "file_extension": ".py",
   "mimetype": "text/x-python",
   "name": "python",
   "nbconvert_exporter": "python",
   "pygments_lexer": "ipython3",
   "version": "3.9.2"
  }
 },
 "nbformat": 4,
 "nbformat_minor": 5
}
