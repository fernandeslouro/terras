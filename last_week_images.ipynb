{
 "cells": [
  {
   "cell_type": "code",
   "execution_count": 1,
   "id": "d2d440f1",
   "metadata": {},
   "outputs": [],
   "source": [
    "%load_ext autoreload\n",
    "%autoreload 2"
   ]
  },
  {
   "cell_type": "code",
   "execution_count": 2,
   "id": "8d310d46",
   "metadata": {
    "tags": []
   },
   "outputs": [],
   "source": [
    "import fiona\n",
    "import collections\n",
    "import matplotlib.pyplot as plt\n",
    "import pyproj\n",
    "import rasterio\n",
    "import rasterio.mask\n",
    "from rasterio.plot import show\n",
    "from rasterio import features\n",
    "from sentinelsat import SentinelAPI, read_geojson, geojson_to_wkt\n",
    "from datetime import date, timedelta\n",
    "import geopandas\n",
    "import os\n",
    "from shapely import geometry\n",
    "import numpy as np\n",
    "import utilities\n",
    "import pandas as pd\n",
    "import shutil\n",
    "import glob\n",
    "pd.set_option('display.max_columns', None)\n",
    "import time\n",
    "import zipfile\n",
    "import geopandas as gpd\n",
    "import shapely\n",
    "import geopandas as gpd\n",
    "from shapely.geometry import MultiPoint, Polygon\n",
    "from PIL import Image"
   ]
  },
  {
   "cell_type": "code",
   "execution_count": 3,
   "id": "aedbc762",
   "metadata": {},
   "outputs": [],
   "source": [
    "path = \"bulk/\"\n",
    "dest = \"bulk_crops/\"\n",
    "counties = True\n",
    "parishes = False\n",
    "cutoff_name = 'Mação'"
   ]
  },
  {
   "cell_type": "code",
   "execution_count": 4,
   "id": "7dd7be19",
   "metadata": {},
   "outputs": [],
   "source": [
    "if parishes:\n",
    "    level = 3\n",
    "if counties:\n",
    "    level=2\n",
    "    \n",
    "all_shapes = gpd.read_file(f\"gadm36_PRT_shp/gadm36_PRT_{level}.shp\")\n",
    "cutoff_shp = all_shapes[all_shapes[f'NAME_{level}']==cutoff_name].iloc[0].geometry\n",
    "all_shapes_ptcrs = all_shapes.to_crs(epsg=32629)\n",
    "cutoff_shp_ptcrs = all_shapes_ptcrs[all_shapes_ptcrs[f'NAME_{level}']==cutoff_name].iloc[0].geometry"
   ]
  },
  {
   "cell_type": "code",
   "execution_count": 5,
   "id": "2172882b",
   "metadata": {},
   "outputs": [],
   "source": [
    "outer_square = utilities.polygon_outer_square(cutoff_shp)"
   ]
  },
  {
   "cell_type": "code",
   "execution_count": null,
   "id": "3c2403ed",
   "metadata": {},
   "outputs": [
    {
     "name": "stdout",
     "output_type": "stream",
     "text": [
      "8 available products\n",
      "Trying to download 2133903c-e90a-4735-8076-e66725241990\n"
     ]
    },
    {
     "name": "stderr",
     "output_type": "stream",
     "text": [
      "Downloading:  28%|██▊       | 339M/1.21G [12:57<31:51, 457kB/s]   "
     ]
    }
   ],
   "source": [
    "os.makedirs(path, exist_ok=True)\n",
    "os.makedirs(dest, exist_ok=True)\n",
    "\n",
    "#get products list from this day\n",
    "api = SentinelAPI('fernandeslouro', 'copernicospw', 'https://scihub.copernicus.eu/dhus')\n",
    "products = api.query(outer_square,\n",
    "                     date=(date.today() - timedelta(7), date.today()),\n",
    "                     platformname='Sentinel-2',\n",
    "                     cloudcoverpercentage=(0, 30))\n",
    "products_df = api.to_dataframe(products)\n",
    "\n",
    "if products_df.empty:\n",
    "    print('No images found')\n",
    "else:    \n",
    "    downloaded_product = utilities.download_most_recent_product(products_df, polygon_to_overlap=cutoff_shp, path=path)"
   ]
  },
  {
   "cell_type": "code",
   "execution_count": null,
   "id": "6f7b7d40",
   "metadata": {},
   "outputs": [],
   "source": [
    "# copy jp2 to dest\n",
    "utilities.subfolders_copy(os.path.join(path, downloaded_product['title'] + '.SAFE'), dest)"
   ]
  },
  {
   "cell_type": "code",
   "execution_count": null,
   "id": "5e8d1eeb",
   "metadata": {},
   "outputs": [],
   "source": [
    "# save cropped jp2 with same name \n",
    "for i in [img for img in utilities.listdir_nohidden(dest) if img.endswith('.jp2')]:\n",
    "    for namepart in i.split('/')[-1].split('_'):\n",
    "        if namepart.startswith('202'):\n",
    "            imgname = f'{namepart[:4]}-{namepart[4:6]}-{namepart[6:8]}_{namepart[9:11]}:{namepart[11:13]}'\n",
    "            break\n",
    "    with rasterio.open(os.path.join(dest, i)) as src:\n",
    "        out_image, out_transform = rasterio.mask.mask(src, [cutoff_shp_ptcrs], crop=True, nodata=0, all_touched=True)\n",
    "        out_meta = src.meta.copy() \n",
    "    \n",
    "    out_image = utilities.append_transparency_band(out_image)\n",
    "            \n",
    "    with rasterio.open(os.path.join(dest, imgname)+'.png','w',\n",
    "                       driver='PNG',\n",
    "                       height=out_image.shape[1],\n",
    "                       width=out_image.shape[2],\n",
    "                       dtype=rasterio.uint8,\n",
    "                       count=out_image.shape[0],\n",
    "                       compress='lzw') as dst:\n",
    "        dst.write(np.array(out_image, dtype='uint8'))\n",
    "    \n",
    "for f in utilities.listdir_nohidden(dest):\n",
    "    if '.jp2' in f and not f.startswith('.'):\n",
    "        os.remove(os.path.join(dest, f))"
   ]
  },
  {
   "cell_type": "code",
   "execution_count": null,
   "id": "962a56a6",
   "metadata": {},
   "outputs": [],
   "source": [
    "shutil.rmtree(os.path.join(path, f'{downloaded_product[\"title\"]}.SAFE'))"
   ]
  }
 ],
 "metadata": {
  "kernelspec": {
   "display_name": "Python 3",
   "language": "python",
   "name": "python3"
  },
  "language_info": {
   "codemirror_mode": {
    "name": "ipython",
    "version": 3
   },
   "file_extension": ".py",
   "mimetype": "text/x-python",
   "name": "python",
   "nbconvert_exporter": "python",
   "pygments_lexer": "ipython3",
   "version": "3.9.2"
  }
 },
 "nbformat": 4,
 "nbformat_minor": 5
}
