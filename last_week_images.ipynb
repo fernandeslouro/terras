{
 "cells": [
  {
   "cell_type": "code",
   "execution_count": 35,
   "id": "hourly-stage",
   "metadata": {},
   "outputs": [
    {
     "name": "stdout",
     "output_type": "stream",
     "text": [
      "The autoreload extension is already loaded. To reload it, use:\n",
      "  %reload_ext autoreload\n"
     ]
    }
   ],
   "source": [
    "%load_ext autoreload\n",
    "%autoreload 2"
   ]
  },
  {
   "cell_type": "code",
   "execution_count": 153,
   "id": "preceding-shower",
   "metadata": {},
   "outputs": [],
   "source": [
    "import fiona\n",
    "import collections\n",
    "import matplotlib.pyplot as plt\n",
    "import pyproj\n",
    "import rasterio\n",
    "import rasterio.mask\n",
    "from rasterio.plot import show\n",
    "from rasterio import features\n",
    "from sentinelsat import SentinelAPI, read_geojson, geojson_to_wkt\n",
    "from datetime import date, timedelta\n",
    "import geopandas\n",
    "import os\n",
    "from shapely import geometry\n",
    "import numpy as np\n",
    "import utilities\n",
    "import pandas as pd\n",
    "import shutil\n",
    "import glob\n",
    "pd.set_option('display.max_columns', None)\n",
    "import time\n",
    "import zipfile\n",
    "import geopandas as gpd\n",
    "import shapely\n",
    "import geopandas as gpd\n",
    "from shapely.geometry import MultiPoint, Polygon"
   ]
  },
  {
   "cell_type": "code",
   "execution_count": 180,
   "id": "sunset-eleven",
   "metadata": {},
   "outputs": [],
   "source": [
    "# 18-21 Jul 2019\n",
    "start_date = date.today() - timedelta(10)\n",
    "end_date = date.today()"
   ]
  },
  {
   "cell_type": "code",
   "execution_count": 155,
   "id": "thirty-integral",
   "metadata": {},
   "outputs": [],
   "source": [
    "path = \"/home/primity/terras/bulk/\"\n",
    "dest = \"/home/primity/terras/bulk_crops/\""
   ]
  },
  {
   "cell_type": "code",
   "execution_count": 156,
   "id": "hungry-insured",
   "metadata": {},
   "outputs": [],
   "source": [
    "freguesias_shapes=fiona.open(\"gadm36_PRT_shp/gadm36_PRT_3.shp\")\n",
    "concelhos_shapes = fiona.open(\"gadm36_PRT_shp/gadm36_PRT_2.shp\")\n",
    "\n",
    "for shp in freguesias_shapes:\n",
    "    #print(shp['properties']['NAME_3'])\n",
    "    if shp['properties']['NAME_3']=='Cardigos' :\n",
    "        cardigos_shp = shp\n",
    "\n",
    "for shp in concelhos_shapes:\n",
    "    if shp['properties']['NAME_2'] =='Mação':\n",
    "        macao_shp = shp\n",
    "        \n",
    "macao_outer_square = utilities.outer_square_points(macao_shp['geometry']['coordinates'][0])"
   ]
  },
  {
   "cell_type": "code",
   "execution_count": 189,
   "id": "passing-tribune",
   "metadata": {},
   "outputs": [],
   "source": [
    "os.makedirs(path, exist_ok=True)\n",
    "os.makedirs(dest, exist_ok=True)\n",
    "\n",
    "\n",
    "#get products list from this day\n",
    "api = SentinelAPI('fernandeslouro', 'copernicospw', 'https://scihub.copernicus.eu/dhus')\n",
    "products = api.query(macao_outer_square,\n",
    "                     date=(start_date, end_date),\n",
    "                     platformname='Sentinel-2',\n",
    "                     cloudcoverpercentage=(0, 30))\n",
    "products_df = api.to_dataframe(products)\n",
    "\n",
    "products_df['footprint'] = geopandas.GeoSeries.from_wkt(products_df['footprint'])\n",
    "products_df = gpd.GeoDataFrame(products_df, geometry='footprint')\n",
    "products_df['centroid_distances'] = products_df.apply(lambda row: row.footprint.centroid.distance(macao_outer_square.centroid), axis=1)\n",
    "\n",
    "print(f\"{current_date} - {len(products)} available products\")\n",
    "# download them all\n",
    "to_download = products_df[products_df.centroid_distances == min(products_df.centroid_distances)].sample(1)\n",
    "to_download = utilities.single_row_dataframe_to_dict(to_download)\n",
    "\n",
    "utilities.download_no_fail(to_download['uuid'], path, 'fernandeslouro', 'copernicospw', 'https://scihub.copernicus.eu/dhus')\n",
    "\n",
    "with zipfile.ZipFile(os.path.join(path, to_download['title']+'.zip'), 'r') as zip_ref:\n",
    "    zip_ref.extractall(path)\n",
    "\n",
    "os.remove(os.path.join(path, to_download['title']+'.zip'))"
   ]
  },
  {
   "cell_type": "code",
   "execution_count": 199,
   "id": "fluid-starter",
   "metadata": {},
   "outputs": [
    {
     "ename": "TypeError",
     "evalue": "Integer width and height are required.",
     "output_type": "error",
     "traceback": [
      "\u001b[0;31m---------------------------------------------------------------------------\u001b[0m",
      "\u001b[0;31mTypeError\u001b[0m                                 Traceback (most recent call last)",
      "\u001b[0;32mrasterio/_io.pyx\u001b[0m in \u001b[0;36mrasterio._io.BufferedDatasetWriterBase.__init__\u001b[0;34m()\u001b[0m\n",
      "\u001b[0;31mTypeError\u001b[0m: int() argument must be a string, a bytes-like object or a number, not 'NoneType'",
      "\nDuring handling of the above exception, another exception occurred:\n",
      "\u001b[0;31mTypeError\u001b[0m                                 Traceback (most recent call last)",
      "\u001b[0;32m<ipython-input-199-6ca85e1e0d98>\u001b[0m in \u001b[0;36m<module>\u001b[0;34m\u001b[0m\n\u001b[1;32m      8\u001b[0m         \u001b[0mout_meta\u001b[0m \u001b[0;34m=\u001b[0m \u001b[0msrc\u001b[0m\u001b[0;34m.\u001b[0m\u001b[0mmeta\u001b[0m\u001b[0;34m.\u001b[0m\u001b[0mcopy\u001b[0m\u001b[0;34m(\u001b[0m\u001b[0;34m)\u001b[0m\u001b[0;34m\u001b[0m\u001b[0;34m\u001b[0m\u001b[0m\n\u001b[1;32m      9\u001b[0m \u001b[0;34m\u001b[0m\u001b[0m\n\u001b[0;32m---> 10\u001b[0;31m     \u001b[0;32mwith\u001b[0m \u001b[0mrasterio\u001b[0m\u001b[0;34m.\u001b[0m\u001b[0mopen\u001b[0m\u001b[0;34m(\u001b[0m\u001b[0mos\u001b[0m\u001b[0;34m.\u001b[0m\u001b[0mpath\u001b[0m\u001b[0;34m.\u001b[0m\u001b[0mjoin\u001b[0m\u001b[0;34m(\u001b[0m\u001b[0mdest\u001b[0m\u001b[0;34m,\u001b[0m \u001b[0mi\u001b[0m\u001b[0;34m)\u001b[0m\u001b[0;34m,\u001b[0m \u001b[0;34m'w'\u001b[0m\u001b[0;34m,\u001b[0m \u001b[0mdtype\u001b[0m\u001b[0;34m=\u001b[0m\u001b[0mrasterio\u001b[0m\u001b[0;34m.\u001b[0m\u001b[0muint8\u001b[0m\u001b[0;34m,\u001b[0m \u001b[0mcount\u001b[0m\u001b[0;34m=\u001b[0m\u001b[0;36m1\u001b[0m\u001b[0;34m,\u001b[0m\u001b[0mcompress\u001b[0m\u001b[0;34m=\u001b[0m\u001b[0;34m'lzw'\u001b[0m\u001b[0;34m)\u001b[0m \u001b[0;32mas\u001b[0m \u001b[0mdst\u001b[0m\u001b[0;34m:\u001b[0m\u001b[0;34m\u001b[0m\u001b[0;34m\u001b[0m\u001b[0m\n\u001b[0m\u001b[1;32m     11\u001b[0m         \u001b[0mdst\u001b[0m\u001b[0;34m.\u001b[0m\u001b[0mwrite\u001b[0m\u001b[0;34m(\u001b[0m\u001b[0mout_image\u001b[0m\u001b[0;34m)\u001b[0m\u001b[0;34m\u001b[0m\u001b[0;34m\u001b[0m\u001b[0m\n\u001b[1;32m     12\u001b[0m \u001b[0;34m\u001b[0m\u001b[0m\n",
      "\u001b[0;32m~/.miniconda3/envs/eruditio/lib/python3.9/site-packages/rasterio/env.py\u001b[0m in \u001b[0;36mwrapper\u001b[0;34m(*args, **kwds)\u001b[0m\n\u001b[1;32m    433\u001b[0m \u001b[0;34m\u001b[0m\u001b[0m\n\u001b[1;32m    434\u001b[0m         \u001b[0;32mwith\u001b[0m \u001b[0menv_ctor\u001b[0m\u001b[0;34m(\u001b[0m\u001b[0msession\u001b[0m\u001b[0;34m=\u001b[0m\u001b[0msession\u001b[0m\u001b[0;34m)\u001b[0m\u001b[0;34m:\u001b[0m\u001b[0;34m\u001b[0m\u001b[0;34m\u001b[0m\u001b[0m\n\u001b[0;32m--> 435\u001b[0;31m             \u001b[0;32mreturn\u001b[0m \u001b[0mf\u001b[0m\u001b[0;34m(\u001b[0m\u001b[0;34m*\u001b[0m\u001b[0margs\u001b[0m\u001b[0;34m,\u001b[0m \u001b[0;34m**\u001b[0m\u001b[0mkwds\u001b[0m\u001b[0;34m)\u001b[0m\u001b[0;34m\u001b[0m\u001b[0;34m\u001b[0m\u001b[0m\n\u001b[0m\u001b[1;32m    436\u001b[0m \u001b[0;34m\u001b[0m\u001b[0m\n\u001b[1;32m    437\u001b[0m     \u001b[0;32mreturn\u001b[0m \u001b[0mwrapper\u001b[0m\u001b[0;34m\u001b[0m\u001b[0;34m\u001b[0m\u001b[0m\n",
      "\u001b[0;32m~/.miniconda3/envs/eruditio/lib/python3.9/site-packages/rasterio/__init__.py\u001b[0m in \u001b[0;36mopen\u001b[0;34m(fp, mode, driver, width, height, count, crs, transform, dtype, nodata, sharing, **kwargs)\u001b[0m\n\u001b[1;32m    215\u001b[0m             \u001b[0mwriter\u001b[0m \u001b[0;34m=\u001b[0m \u001b[0mget_writer_for_driver\u001b[0m\u001b[0;34m(\u001b[0m\u001b[0mdriver\u001b[0m\u001b[0;34m)\u001b[0m\u001b[0;34m\u001b[0m\u001b[0;34m\u001b[0m\u001b[0m\n\u001b[1;32m    216\u001b[0m             \u001b[0;32mif\u001b[0m \u001b[0mwriter\u001b[0m \u001b[0;32mis\u001b[0m \u001b[0;32mnot\u001b[0m \u001b[0;32mNone\u001b[0m\u001b[0;34m:\u001b[0m\u001b[0;34m\u001b[0m\u001b[0;34m\u001b[0m\u001b[0m\n\u001b[0;32m--> 217\u001b[0;31m                 s = writer(path, mode, driver=driver,\n\u001b[0m\u001b[1;32m    218\u001b[0m                            \u001b[0mwidth\u001b[0m\u001b[0;34m=\u001b[0m\u001b[0mwidth\u001b[0m\u001b[0;34m,\u001b[0m \u001b[0mheight\u001b[0m\u001b[0;34m=\u001b[0m\u001b[0mheight\u001b[0m\u001b[0;34m,\u001b[0m\u001b[0;34m\u001b[0m\u001b[0;34m\u001b[0m\u001b[0m\n\u001b[1;32m    219\u001b[0m                            \u001b[0mcount\u001b[0m\u001b[0;34m=\u001b[0m\u001b[0mcount\u001b[0m\u001b[0;34m,\u001b[0m \u001b[0mcrs\u001b[0m\u001b[0;34m=\u001b[0m\u001b[0mcrs\u001b[0m\u001b[0;34m,\u001b[0m\u001b[0;34m\u001b[0m\u001b[0;34m\u001b[0m\u001b[0m\n",
      "\u001b[0;32mrasterio/_io.pyx\u001b[0m in \u001b[0;36mrasterio._io.BufferedDatasetWriterBase.__init__\u001b[0;34m()\u001b[0m\n",
      "\u001b[0;31mTypeError\u001b[0m: Integer width and height are required."
     ]
    }
   ],
   "source": [
    "# copy jp2 to dest\n",
    "utilities.subfolders_copy(os.path.join(path, to_download['title'] + '.SAFE'), dest)\n",
    "\n",
    "# save cropped jp2 with same name \n",
    "for i in os.listdir(dest):\n",
    "    with rasterio.open(os.path.join(dest, i)) as src:\n",
    "        out_image, out_transform = rasterio.mask.mask(src, utilities.transform_shapefile(macao_shp), crop=True, nodata=10, all_touched=True)\n",
    "        out_meta = src.meta.copy() \n",
    "        \n",
    "    with rasterio.open(os.path.join(dest, i), 'w', dtype=rasterio.uint8, count=1,compress='lzw') as dst:\n",
    "        dst.write(out_image)\n",
    "        \n",
    "for f in glob.glob(os.path.join(path, to_download['title'])):\n",
    "    os.remove(f)\n",
    " "
   ]
  },
  {
   "cell_type": "code",
   "execution_count": null,
   "id": "distinguished-encounter",
   "metadata": {},
   "outputs": [],
   "source": []
  }
 ],
 "metadata": {
  "kernelspec": {
   "display_name": "Python 3",
   "language": "python",
   "name": "python3"
  },
  "language_info": {
   "codemirror_mode": {
    "name": "ipython",
    "version": 3
   },
   "file_extension": ".py",
   "mimetype": "text/x-python",
   "name": "python",
   "nbconvert_exporter": "python",
   "pygments_lexer": "ipython3",
   "version": "3.9.2"
  }
 },
 "nbformat": 4,
 "nbformat_minor": 5
}
