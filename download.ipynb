{
 "cells": [
  {
   "cell_type": "code",
   "execution_count": 1,
   "id": "mental-forth",
   "metadata": {},
   "outputs": [],
   "source": [
    "import fiona\n",
    "import collections\n",
    "import matplotlib.pyplot as plt\n",
    "import pyproj\n",
    "import rasterio\n",
    "import rasterio.mask\n",
    "from rasterio.plot import show\n",
    "from rasterio import features\n",
    "from sentinelsat import SentinelAPI, read_geojson, geojson_to_wkt\n",
    "from datetime import date\n",
    "import geopandas\n",
    "import os\n",
    "from shapely import geometry\n",
    "import numpy as np"
   ]
  },
  {
   "cell_type": "code",
   "execution_count": 1,
   "id": "fewer-guard",
   "metadata": {},
   "outputs": [],
   "source": [
    "# GeoJSON FeatureCollection containing footprints and metadata of the scenes\n",
    "#api.to_geojson(products)\n",
    "\n",
    "# GeoPandas GeoDataFrame with the metadata of the scenes and the footprints as geometries\n",
    "#api.to_geodataframe(products)\n",
    "\n",
    "# Get basic information about the product: its title, file size, MD5 sum, date, footprint and\n",
    "# its download url\n",
    "#api.get_product_odata(<product_id>)\n",
    "\n",
    "# Get the product's full metadata available on the server\n",
    "#api.get_product_odata(<product_id>, full=True)"
   ]
  },
  {
   "cell_type": "code",
   "execution_count": 3,
   "id": "yellow-penny",
   "metadata": {},
   "outputs": [],
   "source": [
    "api = SentinelAPI('fernandeslouro', 'copernicospw', 'https://scihub.copernicus.eu/dhus')"
   ]
  },
  {
   "cell_type": "code",
   "execution_count": 4,
   "id": "deluxe-testing",
   "metadata": {},
   "outputs": [],
   "source": [
    "# search by polygon, time, and SciHub query keywords\n",
    "footprint = geojson_to_wkt(read_geojson('quadrado-cardigos.geojson'))\n",
    "products = api.query(footprint,\n",
    "                     date=('20210320', '20210321'),\n",
    "                     platformname='Sentinel-2',\n",
    "                     cloudcoverpercentage=(0, 30))\n",
    "products = api.to_dataframe(products)"
   ]
  },
  {
   "cell_type": "code",
   "execution_count": 5,
   "id": "third-anaheim",
   "metadata": {},
   "outputs": [
    {
     "data": {
      "text/html": [
       "<div>\n",
       "<style scoped>\n",
       "    .dataframe tbody tr th:only-of-type {\n",
       "        vertical-align: middle;\n",
       "    }\n",
       "\n",
       "    .dataframe tbody tr th {\n",
       "        vertical-align: top;\n",
       "    }\n",
       "\n",
       "    .dataframe thead th {\n",
       "        text-align: right;\n",
       "    }\n",
       "</style>\n",
       "<table border=\"1\" class=\"dataframe\">\n",
       "  <thead>\n",
       "    <tr style=\"text-align: right;\">\n",
       "      <th></th>\n",
       "      <th>generationdate</th>\n",
       "      <th>size</th>\n",
       "      <th>format</th>\n",
       "      <th>cloudcoverpercentage</th>\n",
       "      <th>instrumentname</th>\n",
       "    </tr>\n",
       "  </thead>\n",
       "  <tbody>\n",
       "    <tr>\n",
       "      <th>644e0a23-c3dc-4e06-9b46-3f1d0dc00a66</th>\n",
       "      <td>2021-03-20 13:08:43</td>\n",
       "      <td>1.10 GB</td>\n",
       "      <td>SAFE</td>\n",
       "      <td>0.805767</td>\n",
       "      <td>Multi-Spectral Instrument</td>\n",
       "    </tr>\n",
       "    <tr>\n",
       "      <th>300f1a09-222e-454a-aa71-fec8abd385a4</th>\n",
       "      <td>2021-03-20 13:08:43</td>\n",
       "      <td>1.11 GB</td>\n",
       "      <td>SAFE</td>\n",
       "      <td>0.882688</td>\n",
       "      <td>Multi-Spectral Instrument</td>\n",
       "    </tr>\n",
       "    <tr>\n",
       "      <th>2c81e0bd-b828-4407-837b-f71d9fbf7210</th>\n",
       "      <td>2021-03-20 12:30:52</td>\n",
       "      <td>825.85 MB</td>\n",
       "      <td>SAFE</td>\n",
       "      <td>0.167300</td>\n",
       "      <td>Multi-Spectral Instrument</td>\n",
       "    </tr>\n",
       "    <tr>\n",
       "      <th>dfb8ce8b-8846-48ee-97b9-13561ff199a0</th>\n",
       "      <td>2021-03-20 12:30:52</td>\n",
       "      <td>815.99 MB</td>\n",
       "      <td>SAFE</td>\n",
       "      <td>0.029700</td>\n",
       "      <td>Multi-Spectral Instrument</td>\n",
       "    </tr>\n",
       "  </tbody>\n",
       "</table>\n",
       "</div>"
      ],
      "text/plain": [
       "                                          generationdate       size format  \\\n",
       "644e0a23-c3dc-4e06-9b46-3f1d0dc00a66 2021-03-20 13:08:43    1.10 GB   SAFE   \n",
       "300f1a09-222e-454a-aa71-fec8abd385a4 2021-03-20 13:08:43    1.11 GB   SAFE   \n",
       "2c81e0bd-b828-4407-837b-f71d9fbf7210 2021-03-20 12:30:52  825.85 MB   SAFE   \n",
       "dfb8ce8b-8846-48ee-97b9-13561ff199a0 2021-03-20 12:30:52  815.99 MB   SAFE   \n",
       "\n",
       "                                      cloudcoverpercentage  \\\n",
       "644e0a23-c3dc-4e06-9b46-3f1d0dc00a66              0.805767   \n",
       "300f1a09-222e-454a-aa71-fec8abd385a4              0.882688   \n",
       "2c81e0bd-b828-4407-837b-f71d9fbf7210              0.167300   \n",
       "dfb8ce8b-8846-48ee-97b9-13561ff199a0              0.029700   \n",
       "\n",
       "                                                 instrumentname  \n",
       "644e0a23-c3dc-4e06-9b46-3f1d0dc00a66  Multi-Spectral Instrument  \n",
       "300f1a09-222e-454a-aa71-fec8abd385a4  Multi-Spectral Instrument  \n",
       "2c81e0bd-b828-4407-837b-f71d9fbf7210  Multi-Spectral Instrument  \n",
       "dfb8ce8b-8846-48ee-97b9-13561ff199a0  Multi-Spectral Instrument  "
      ]
     },
     "execution_count": 5,
     "metadata": {},
     "output_type": "execute_result"
    }
   ],
   "source": [
    "products[['generationdate', 'size','format','cloudcoverpercentage','instrumentname']]"
   ]
  },
  {
   "cell_type": "raw",
   "id": "minor-mount",
   "metadata": {},
   "source": [
    "# download all results from the search \n",
    "api.download('dfb8ce8b-8846-48ee-97b9-13561ff199a0')"
   ]
  },
  {
   "cell_type": "code",
   "execution_count": null,
   "id": "voluntary-impossible",
   "metadata": {},
   "outputs": [],
   "source": [
    "!unzip S2B_MSIL2A_20210320T112109_N0214_R037_T29TNE_20210320T130843.zip\n",
    "# Delete the zip"
   ]
  },
  {
   "cell_type": "markdown",
   "id": "vanilla-diesel",
   "metadata": {},
   "source": [
    "***"
   ]
  }
 ],
 "metadata": {
  "kernelspec": {
   "display_name": "Python 3",
   "language": "python",
   "name": "python3"
  },
  "language_info": {
   "codemirror_mode": {
    "name": "ipython",
    "version": 3
   },
   "file_extension": ".py",
   "mimetype": "text/x-python",
   "name": "python",
   "nbconvert_exporter": "python",
   "pygments_lexer": "ipython3",
   "version": "3.9.2"
  }
 },
 "nbformat": 4,
 "nbformat_minor": 5
}
