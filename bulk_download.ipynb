{
 "cells": [
  {
   "cell_type": "code",
   "execution_count": 1,
   "id": "desirable-night",
   "metadata": {},
   "outputs": [],
   "source": [
    "%load_ext autoreload\n",
    "%autoreload 2"
   ]
  },
  {
   "cell_type": "code",
   "execution_count": 2,
   "id": "foster-plymouth",
   "metadata": {},
   "outputs": [],
   "source": [
    "import fiona\n",
    "import collections\n",
    "import matplotlib.pyplot as plt\n",
    "import pyproj\n",
    "import rasterio\n",
    "import rasterio.mask\n",
    "from rasterio.plot import show\n",
    "from rasterio import features\n",
    "from sentinelsat import SentinelAPI, read_geojson, geojson_to_wkt\n",
    "from datetime import date, timedelta\n",
    "import geopandas\n",
    "import os\n",
    "from shapely import geometry\n",
    "import numpy as np\n",
    "import utilities\n",
    "import pandas as pd\n",
    "import shutil\n",
    "import glob\n",
    "pd.set_option('display.max_columns', None)\n",
    "import time"
   ]
  },
  {
   "cell_type": "code",
   "execution_count": 3,
   "id": "ahead-depression",
   "metadata": {},
   "outputs": [],
   "source": [
    "# 18-21 Jul 2019\n",
    "start_date = date(2020, 4, 1)\n",
    "end_date = date(2021, 3, 25)"
   ]
  },
  {
   "cell_type": "code",
   "execution_count": 4,
   "id": "ahead-chaos",
   "metadata": {},
   "outputs": [],
   "source": [
    "path = \"/home/primity/terras/bulk/\"\n",
    "dest = \"/home/primity/terras/bulk_crops/\""
   ]
  },
  {
   "cell_type": "code",
   "execution_count": 5,
   "id": "absolute-carolina",
   "metadata": {},
   "outputs": [
    {
     "name": "stdout",
     "output_type": "stream",
     "text": [
      "2019-04-20 - 8 available products\n",
      "Trying to download 437a64f6-f761-4a69-bdd6-7563593653af\n"
     ]
    },
    {
     "name": "stderr",
     "output_type": "stream",
     "text": [
      "Product 437a64f6-f761-4a69-bdd6-7563593653af is not online. Triggering retrieval from long term archive.\n"
     ]
    },
    {
     "name": "stdout",
     "output_type": "stream",
     "text": [
      "437a64f6-f761-4a69-bdd6-7563593653af\n",
      "2019-04-30 - 8 available products\n",
      "Trying to download f95060c0-9741-49cf-bba2-72bfc977f3e2\n"
     ]
    },
    {
     "name": "stderr",
     "output_type": "stream",
     "text": [
      "Product f95060c0-9741-49cf-bba2-72bfc977f3e2 is not online. Triggering retrieval from long term archive.\n"
     ]
    },
    {
     "name": "stdout",
     "output_type": "stream",
     "text": [
      "f95060c0-9741-49cf-bba2-72bfc977f3e2\n"
     ]
    },
    {
     "ename": "KeyboardInterrupt",
     "evalue": "",
     "output_type": "error",
     "traceback": [
      "\u001b[0;31m--------------------------------------------------------------------------\u001b[0m",
      "\u001b[0;31mKeyboardInterrupt\u001b[0m                        Traceback (most recent call last)",
      "\u001b[0;32m<ipython-input-5-fb5524d48362>\u001b[0m in \u001b[0;36m<module>\u001b[0;34m\u001b[0m\n\u001b[1;32m      2\u001b[0m \u001b[0mfootprint\u001b[0m \u001b[0;34m=\u001b[0m \u001b[0mgeojson_to_wkt\u001b[0m\u001b[0;34m(\u001b[0m\u001b[0mread_geojson\u001b[0m\u001b[0;34m(\u001b[0m\u001b[0;34m'quadrado-macao.geojson'\u001b[0m\u001b[0;34m)\u001b[0m\u001b[0;34m)\u001b[0m\u001b[0;34m\u001b[0m\u001b[0;34m\u001b[0m\u001b[0m\n\u001b[1;32m      3\u001b[0m \u001b[0;32mfor\u001b[0m \u001b[0mcurrent_date\u001b[0m \u001b[0;32min\u001b[0m \u001b[0mutilities\u001b[0m\u001b[0;34m.\u001b[0m\u001b[0mdaterange\u001b[0m\u001b[0;34m(\u001b[0m\u001b[0mstart_date\u001b[0m\u001b[0;34m,\u001b[0m \u001b[0mend_date\u001b[0m \u001b[0;34m-\u001b[0m  \u001b[0mtimedelta\u001b[0m\u001b[0;34m(\u001b[0m\u001b[0;36m1\u001b[0m\u001b[0;34m)\u001b[0m\u001b[0;34m)\u001b[0m\u001b[0;34m:\u001b[0m\u001b[0;34m\u001b[0m\u001b[0;34m\u001b[0m\u001b[0m\n\u001b[0;32m----> 4\u001b[0;31m     \u001b[0mtime\u001b[0m\u001b[0;34m.\u001b[0m\u001b[0msleep\u001b[0m\u001b[0;34m(\u001b[0m\u001b[0;36m5\u001b[0m\u001b[0;34m)\u001b[0m\u001b[0;34m\u001b[0m\u001b[0;34m\u001b[0m\u001b[0m\n\u001b[0m\u001b[1;32m      5\u001b[0m     \u001b[0mos\u001b[0m\u001b[0;34m.\u001b[0m\u001b[0mmakedirs\u001b[0m\u001b[0;34m(\u001b[0m\u001b[0mpath\u001b[0m\u001b[0;34m,\u001b[0m \u001b[0mexist_ok\u001b[0m\u001b[0;34m=\u001b[0m\u001b[0;32mTrue\u001b[0m\u001b[0;34m)\u001b[0m\u001b[0;34m\u001b[0m\u001b[0;34m\u001b[0m\u001b[0m\n\u001b[1;32m      6\u001b[0m     \u001b[0;31m#get products list from this day\u001b[0m\u001b[0;34m\u001b[0m\u001b[0;34m\u001b[0m\u001b[0;34m\u001b[0m\u001b[0m\n",
      "\u001b[0;31mKeyboardInterrupt\u001b[0m: "
     ]
    }
   ],
   "source": [
    "os.makedirs(dest, exist_ok=True)\n",
    "footprint = geojson_to_wkt(read_geojson('quadrado-macao.geojson'))\n",
    "for current_date in utilities.daterange(start_date, end_date -  timedelta(1)):\n",
    "    time.sleep(5)\n",
    "    os.makedirs(path, exist_ok=True)\n",
    "    #get products list from this day\n",
    "    api = SentinelAPI('fernandeslouro', 'copernicospw', 'https://scihub.copernicus.eu/dhus')\n",
    "    products = api.query(footprint,\n",
    "                         date=(current_date, current_date + timedelta(1)),\n",
    "                         platformname='Sentinel-2',\n",
    "                         cloudcoverpercentage=(0, 30))\n",
    "    products_df = api.to_dataframe(products)\n",
    "    \n",
    "    if products:\n",
    "        print(f\"{current_date} - {len(products)} available products\")\n",
    "        # download them all\n",
    "        for p in list(products_df.index):\n",
    "            time.sleep(10)\n",
    "            utilities.download_no_fail(p, 'fernandeslouro', 'copernicospw', 'https://scihub.copernicus.eu/dhus')\n",
    "            print(p)\n",
    "        # unzip them all\n",
    "        for f in os.listdir(path):\n",
    "            bashCmd = f\"!unzip {os.path.join(path, f)}\"\n",
    "            process = subprocess.Popen(bashCmd, stdout=subprocess.PIPE)\n",
    "            output, error = process.communicate()\n",
    "        # copy jp2 to dest\n",
    "        utilities.subfolders_copy(path, dest)\n",
    "        \n",
    "        # save cropped jp2 with same name \n",
    "        for i in os.listdir(dest):\n",
    "            with rasterio.open(os.path.join(image_dir, i)) as src:\n",
    "                out_image, out_transform = rasterio.mask.mask(src, utilities.transform_shapefile(macao_shp), crop=True, nodata=10, all_touched=True)\n",
    "                out_meta = src.meta.copy() \n",
    "            with rasterio.open(os.path.join(image_dir, i), 'w', **profile) as dst:\n",
    "                dst.write(out_image.astype(rasterio.uint8), 1)\n",
    "                \n",
    "        \n",
    "        shutil.rmtree(path) \n",
    "    "
   ]
  },
  {
   "cell_type": "code",
   "execution_count": null,
   "id": "unlimited-friendly",
   "metadata": {},
   "outputs": [],
   "source": []
  }
 ],
 "metadata": {
  "kernelspec": {
   "display_name": "Python 3",
   "language": "python",
   "name": "python3"
  },
  "language_info": {
   "codemirror_mode": {
    "name": "ipython",
    "version": 3
   },
   "file_extension": ".py",
   "mimetype": "text/x-python",
   "name": "python",
   "nbconvert_exporter": "python",
   "pygments_lexer": "ipython3",
   "version": "3.9.2"
  }
 },
 "nbformat": 4,
 "nbformat_minor": 5
}
